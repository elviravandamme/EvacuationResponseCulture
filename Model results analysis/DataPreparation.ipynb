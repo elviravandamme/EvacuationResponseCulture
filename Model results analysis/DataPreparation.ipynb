{
 "cells": [
  {
   "cell_type": "code",
   "execution_count": 1,
   "metadata": {},
   "outputs": [],
   "source": [
    "# Import libraries\n",
    "import numpy as np\n",
    "import scipy as sp\n",
    "import pandas as pd\n",
    "import matplotlib.pyplot as plt\n",
    "import seaborn as sns\n",
    "import networkx as nx\n",
    "\n",
    "from ema_workbench.util import ema_logging, utilities\n"
   ]
  },
  {
   "cell_type": "code",
   "execution_count": 2,
   "metadata": {},
   "outputs": [],
   "source": [
    "df_allscenarios = pd.read_excel('ModellAllData.xlsx')"
   ]
  },
  {
   "cell_type": "code",
   "execution_count": 3,
   "metadata": {},
   "outputs": [],
   "source": [
    "# Change column names\n",
    "df_allscenarios.rename(columns={'[run number]': 'Run_number', \"Exits-available\": \"Exits_available\",\"Familiarity-meter\": \"Familiarity\", \"initial-number-visitor\": \"Num_Visitors\",\n",
    "                       \"vision-distance\": 'Vision_distance', 'Chance-friends-in-building': \"Chance_friends_in_building\", 'vision-angle': \"vision_angle\", \n",
    "                        'gender-ratio': \"gender_ratio\", \"chance-friends-nearby\": \"Chance_friends_nearby\",\"Visitors-not-on-place\": \"Vistors_not_in_place\",\n",
    "                        'initial-number-staff': \"Num_staff\",\"[step]\": \"Step\", 'total-evacuation-time': \"Total_evacuation_time\", '[ response-time ] of visitors': \"Response_times_visitors\",\n",
    "                        '[ response-time ] of staff': \"Response_times_staff\", '[evacuation-time] of visitors': \"Evac_times_visitors\",\n",
    "                        '[evacuation-time] of staff': 'Evac_times_staff', \"[notif] of staff\": \"Notification_times_staff\",\n",
    "                        '[notif] of visitors': \"Notification_times_visitors\",'[response-time-excl-notif] of staff': \"Response_times_staff_excNotif\",\n",
    "                        \"[response-time-excl-notif] of visitors\":\"Response_times_visitors_excNotif\", '[movement-time] of staff': \"Movement_times_staff\",\n",
    "                        'gender-ratio': \"gender_ratio\", '[movement-time] of visitors':\"Movement_times_visitors\",'[response-tasks-list] of visitors':\"Response_tasks_lists\",\n",
    "                'count staff with [ evacuated-state? =  True ]': \"Staff_evacuated\", 'count visitors with [ evacuated-state? =  True ]':\"Visitors_evacuated\", \n",
    "                               \"count visitors with [informed-by-staff? = True]\": \"Visitors_informed_by_staff\",\n",
    "                               \"count visitors with [fire-seen? = True]\": \"Visitors_fire_seen\"}, inplace=True)\n",
    "\n",
    "# Only keep useful columns\n",
    "df_allscenarios= df_allscenarios[['Num_Visitors', 'Num_staff',  'Chance_friends_in_building', 'Familiarity',  'Culture',\"Total_evacuation_time\", 'Response_times_visitors',\n",
    " 'Response_times_staff',  'Evac_times_visitors',  'Evac_times_staff',  'Notification_times_staff',  'Notification_times_visitors',  'Response_times_staff_excNotif',\n",
    " 'Response_times_visitors_excNotif',  'Movement_times_staff',  'Movement_times_visitors',  'Response_tasks_lists', \"Visitors_informed_by_staff\", \"Visitors_fire_seen\"  ]].copy()\n",
    "\n",
    "df_allscenarios=df_allscenarios.reset_index()"
   ]
  },
  {
   "cell_type": "code",
   "execution_count": 23,
   "metadata": {},
   "outputs": [],
   "source": [
    "# Adjust lists columns; make them useable\n",
    "\n",
    "Lists_columns= ['Response_times_visitors', 'Response_times_staff', 'Evac_times_visitors',  'Evac_times_staff', 'Notification_times_staff', 'Notification_times_visitors',\n",
    "               'Response_times_staff_excNotif', 'Response_times_visitors_excNotif',  'Movement_times_staff',  'Movement_times_visitors' ]\n",
    "for i in Lists_columns:\n",
    "    df_allscenarios[i]=df_allscenarios[i].str.replace('[', '')\n",
    "    df_allscenarios[i]=df_allscenarios[i].str.replace(\"]\", \"\")\n",
    "    df_allscenarios[i]=df_allscenarios[i].str.split(\" \")\n",
    "\n",
    "#Sort values in lists\n",
    "for i in Lists_columns:\n",
    "    df_allscenarios[i]=df_allscenarios[i].apply(lambda x: sorted(x))\n",
    "\n",
    "# Transform strings to integers\n",
    "for i in Lists_columns:\n",
    "    for y in df_allscenarios.index:\n",
    "        x= df_allscenarios.iloc[y][i]\n",
    "        xx= list(map(int, x))\n",
    "        df_allscenarios.at[y,i] = xx\n"
   ]
  },
  {
   "cell_type": "code",
   "execution_count": 24,
   "metadata": {},
   "outputs": [
    {
     "name": "stderr",
     "output_type": "stream",
     "text": [
      "C:\\Users\\elvir\\anaconda3\\lib\\site-packages\\ipykernel_launcher.py:15: SettingWithCopyWarning: \n",
      "A value is trying to be set on a copy of a slice from a DataFrame\n",
      "\n",
      "See the caveats in the documentation: https://pandas.pydata.org/pandas-docs/stable/user_guide/indexing.html#returning-a-view-versus-a-copy\n",
      "  from ipykernel import kernelapp as app\n",
      "C:\\Users\\elvir\\anaconda3\\lib\\site-packages\\ipykernel_launcher.py:17: SettingWithCopyWarning: \n",
      "A value is trying to be set on a copy of a slice from a DataFrame\n",
      "\n",
      "See the caveats in the documentation: https://pandas.pydata.org/pandas-docs/stable/user_guide/indexing.html#returning-a-view-versus-a-copy\n",
      "C:\\Users\\elvir\\anaconda3\\lib\\site-packages\\ipykernel_launcher.py:19: SettingWithCopyWarning: \n",
      "A value is trying to be set on a copy of a slice from a DataFrame\n",
      "\n",
      "See the caveats in the documentation: https://pandas.pydata.org/pandas-docs/stable/user_guide/indexing.html#returning-a-view-versus-a-copy\n",
      "C:\\Users\\elvir\\anaconda3\\lib\\site-packages\\ipykernel_launcher.py:21: SettingWithCopyWarning: \n",
      "A value is trying to be set on a copy of a slice from a DataFrame\n",
      "\n",
      "See the caveats in the documentation: https://pandas.pydata.org/pandas-docs/stable/user_guide/indexing.html#returning-a-view-versus-a-copy\n",
      "C:\\Users\\elvir\\anaconda3\\lib\\site-packages\\ipykernel_launcher.py:24: SettingWithCopyWarning: \n",
      "A value is trying to be set on a copy of a slice from a DataFrame\n",
      "\n",
      "See the caveats in the documentation: https://pandas.pydata.org/pandas-docs/stable/user_guide/indexing.html#returning-a-view-versus-a-copy\n",
      "C:\\Users\\elvir\\anaconda3\\lib\\site-packages\\ipykernel_launcher.py:27: SettingWithCopyWarning: \n",
      "A value is trying to be set on a copy of a slice from a DataFrame\n",
      "\n",
      "See the caveats in the documentation: https://pandas.pydata.org/pandas-docs/stable/user_guide/indexing.html#returning-a-view-versus-a-copy\n",
      "C:\\Users\\elvir\\anaconda3\\lib\\site-packages\\ipykernel_launcher.py:30: SettingWithCopyWarning: \n",
      "A value is trying to be set on a copy of a slice from a DataFrame\n",
      "\n",
      "See the caveats in the documentation: https://pandas.pydata.org/pandas-docs/stable/user_guide/indexing.html#returning-a-view-versus-a-copy\n",
      "C:\\Users\\elvir\\anaconda3\\lib\\site-packages\\ipykernel_launcher.py:33: SettingWithCopyWarning: \n",
      "A value is trying to be set on a copy of a slice from a DataFrame\n",
      "\n",
      "See the caveats in the documentation: https://pandas.pydata.org/pandas-docs/stable/user_guide/indexing.html#returning-a-view-versus-a-copy\n"
     ]
    }
   ],
   "source": [
    "#Add columns for evac 25, 50, 95, 100\n",
    "df_allscenarios[\"Evac25\"]= \" \"\n",
    "df_allscenarios[\"Evac50\"]= \" \"\n",
    "df_allscenarios[\"Evac75\"]= \" \"\n",
    "df_allscenarios[\"Evac95\"]= \" \"\n",
    "df_allscenarios[\"AvgrespVist\"]= \" \"\n",
    "df_allscenarios[\"AvgrespStaff\"]= \" \"\n",
    "df_allscenarios[\"AvgevacVist\"]= \" \"\n",
    "df_allscenarios[\"AvgevacStaff\"]= \" \"\n",
    "\n",
    "# Add evac 25 , 50, 75 ,95, 100\n",
    "for y in df_allscenarios.index:\n",
    "    x= df_allscenarios.iloc[y]['Evac_times_visitors']\n",
    "    a95= np.percentile(x,95)\n",
    "    df_allscenarios[\"Evac95\"][y] = a95\n",
    "    a25= np.percentile(x,25)\n",
    "    df_allscenarios[\"Evac25\"][y] = a25\n",
    "    a50= np.percentile(x,50)\n",
    "    df_allscenarios[\"Evac50\"][y] = a50\n",
    "    a75= np.percentile(x,75)\n",
    "    df_allscenarios[\"Evac75\"][y] = a75\n",
    "    \n",
    "    z=df_allscenarios.iloc[y]['Response_times_visitors']\n",
    "    df_allscenarios[\"AvgrespVist\"][y]=np.mean(z)\n",
    "    \n",
    "    u=df_allscenarios.iloc[y]['Response_times_staff']\n",
    "    df_allscenarios[\"AvgrespStaff\"][y]=np.mean(u)\n",
    "    \n",
    "    o=df_allscenarios.iloc[y]['Evac_times_visitors']\n",
    "    df_allscenarios[\"AvgevacVist\"][y]=np.mean(o)\n",
    "    \n",
    "    g=df_allscenarios.iloc[y]['Evac_times_staff']\n",
    "    df_allscenarios[\"AvgevacStaff\"][y]=np.mean(g)\n"
   ]
  },
  {
   "cell_type": "code",
   "execution_count": 25,
   "metadata": {},
   "outputs": [
    {
     "name": "stderr",
     "output_type": "stream",
     "text": [
      "C:\\Users\\elvir\\anaconda3\\lib\\site-packages\\ipykernel_launcher.py:10: SettingWithCopyWarning: \n",
      "A value is trying to be set on a copy of a slice from a DataFrame\n",
      "\n",
      "See the caveats in the documentation: https://pandas.pydata.org/pandas-docs/stable/user_guide/indexing.html#returning-a-view-versus-a-copy\n",
      "  # Remove the CWD from sys.path while we load stuff.\n"
     ]
    }
   ],
   "source": [
    "# Add evacuated over time\n",
    "df_allscenarios[\"Evac_over_time\"]= \" \"\n",
    "Evacuated_over_time_list= []\n",
    "for y in df_allscenarios.index:\n",
    "    Evacuated_over_time_list = []\n",
    "    for i in range (2000):\n",
    "        larger_elements = [element for element in df_allscenarios[\"Evac_times_visitors\"][y] if element < i]\n",
    "        number_of_elements = len(larger_elements)\n",
    "        Evacuated_over_time_list.append(number_of_elements)\n",
    "    df_allscenarios[\"Evac_over_time\"][y]=Evacuated_over_time_list \n"
   ]
  },
  {
   "cell_type": "code",
   "execution_count": 4,
   "metadata": {},
   "outputs": [
    {
     "name": "stderr",
     "output_type": "stream",
     "text": [
      "C:\\Users\\elvir\\anaconda3\\lib\\site-packages\\ipykernel_launcher.py:5: SettingWithCopyWarning: \n",
      "A value is trying to be set on a copy of a slice from a DataFrame\n",
      "\n",
      "See the caveats in the documentation: https://pandas.pydata.org/pandas-docs/stable/user_guide/indexing.html#returning-a-view-versus-a-copy\n",
      "  \"\"\"\n",
      "C:\\Users\\elvir\\anaconda3\\lib\\site-packages\\ipykernel_launcher.py:7: SettingWithCopyWarning: \n",
      "A value is trying to be set on a copy of a slice from a DataFrame\n",
      "\n",
      "See the caveats in the documentation: https://pandas.pydata.org/pandas-docs/stable/user_guide/indexing.html#returning-a-view-versus-a-copy\n",
      "  import sys\n"
     ]
    }
   ],
   "source": [
    "# Caculate percentages of people who have seen fire/ informed by staff\n",
    "df_allscenarios[\"Visitors_fire_seen_percentage\"]= \" \"\n",
    "df_allscenarios[\"Visitors_informed_by_staff_percentage\"]= \" \"\n",
    "for y in df_allscenarios.index:\n",
    "    x= df_allscenarios.iloc[y]['Visitors_fire_seen']\n",
    "    df_allscenarios[\"Visitors_fire_seen_percentage\"][y] = x/ (df_allscenarios.iloc[y]['Num_Visitors']) *100\n",
    "    x= df_allscenarios.iloc[y]['Visitors_informed_by_staff']\n",
    "    df_allscenarios[\"Visitors_informed_by_staff_percentage\"][y] = x/ (df_allscenarios.iloc[y]['Num_Visitors']) *100"
   ]
  },
  {
   "cell_type": "code",
   "execution_count": 28,
   "metadata": {},
   "outputs": [],
   "source": [
    "# create excel writer object\n",
    "writer = pd.ExcelWriter('AllScenariosPreped.xlsx')\n",
    "# write dataframe to excel\n",
    "df_allscenarios.to_excel(writer)\n",
    "# save the excel\n",
    "writer.save()"
   ]
  }
 ],
 "metadata": {
  "kernelspec": {
   "display_name": "Python 3",
   "language": "python",
   "name": "python3"
  },
  "language_info": {
   "codemirror_mode": {
    "name": "ipython",
    "version": 3
   },
   "file_extension": ".py",
   "mimetype": "text/x-python",
   "name": "python",
   "nbconvert_exporter": "python",
   "pygments_lexer": "ipython3",
   "version": "3.7.6"
  }
 },
 "nbformat": 4,
 "nbformat_minor": 4
}
